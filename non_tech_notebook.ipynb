{
 "cells": [
  {
   "cell_type": "markdown",
   "metadata": {},
   "source": [
    "# Timing is Everything"
   ]
  },
  {
   "cell_type": "markdown",
   "metadata": {},
   "source": [
    "### A movie data analysis by Ahmed Safdar and Kate Christensen"
   ]
  },
  {
   "cell_type": "markdown",
   "metadata": {},
   "source": [
    "Coming into this project, we assumed that Microsoft knows nothing about making movies. We assumed that they had no idea what genre of movies to make, which studios to work with, or what time of the year to release them. For our analysis, we decided to look at the various factors that could have influenced the gross domestic revenue of movies released from 2010 to 2018. Our final dataset drew from the Box Office Mojo, TMDB, IMDB title and IMDB rating databases. We needed Box Office Mojo for the domestic gross values, TMDB for the exact release dates, and IMDB for title and user rating.\n",
    "\n",
    "We first looked at gross domestic revenue by genre, to see which were the most profitable. We then took the top 5 film studios and looked at their gross revenue by genre, to see which studios fared better with which genres. We further broke it down by month, to see if certain genres fared better in certain times of the year. Finally, we looked at whether a movie is released in the beginning, middle, or end of the year is a contributing factor in now much it makes. We believe that our results are significant, and that they show actionable insights for Microsoft's CEO.\n",
    "\n",
    "These next few figures will show the results from our investigation:"
   ]
  },
  {
   "cell_type": "markdown",
   "metadata": {},
   "source": [
    "![fig1](Average_dom_gross_by_genre.png)\n",
    "> Our first figure gives us a general insight into the kind of data we're looking for. Here we see the gross domestic revenue broken down by genre, which is useful. Adventure, action, and comedy are the highest-grossing genres according to our data. For our next figure, we decided to just focus on the top three genres so as not to inundate the reader with too much data."
   ]
  },
  {
   "attachments": {},
   "cell_type": "markdown",
   "metadata": {},
   "source": [
    "![fig2](Studio_success_by_genre.png)\n",
    "> Here we see the gross revenue for the top five studios, again broken down by genre. Again, we decided to focus on the top three genres to give a more focused direction to the kinds of movies we recommend that you make. We see that Buena Vista performs very well across all genres. Warner Bros. also does well with action and adventure movies.\n",
    "\n",
    "> Now that we know which studios do better with which genres, we wanted to see what insights we could glean by breaking down our initial figure by month."
   ]
  },
  {
   "attachments": {},
   "cell_type": "markdown",
   "metadata": {},
   "source": [
    "![fig3](Success_by_month.png)\n",
    "> Here we further break it down by month. From this figure we see that action movies do very well in May, while adventure movies tend to dominate in June. They also do well in November and December. Comedies perform lower across the board, but they also do well in June and July.\n",
    "\n",
    "> From here, we wanted to see if further breaking it down by time of the month would make a significant difference, as you will see in the next figure."
   ]
  },
  {
   "attachments": {},
   "cell_type": "markdown",
   "metadata": {},
   "source": [
    "![fig4](Success_by_time_of_month.png)\n",
    "> Here we see the gross revenue of our top three genres broken down by the time of the month in which they are released. We can see that while movies released in the beginning and middle of the month are more successful across all genres, the difference is not very significant."
   ]
  },
  {
   "cell_type": "markdown",
   "metadata": {},
   "source": [
    "## Results\n",
    "\n",
    "From these results, we recommend that Buena Vista should be your first choice to work with. They have had superior performance across all genres. If they aren't available, Warner Bros. and Sony would also be good choices, as they have been successful with action and adventure movies. We don't recommend that you work with Fox, as their performance was slightly lower across the board.\n",
    "\n",
    "We recommend that you focus on making action and adventure movies, as they perform better across the board. The best release times are in May and June, as well as towards the end of the year in November and December.\n",
    "\n",
    "We have also determined that while movies released in the beginning and middle of the month do tend to do slightly better, the difference is slight. The time of the month should be a low priority when determining the release date of a movie"
   ]
  },
  {
   "cell_type": "code",
   "execution_count": null,
   "metadata": {},
   "outputs": [],
   "source": []
  }
 ],
 "metadata": {
  "kernelspec": {
   "display_name": "Python 3",
   "language": "python",
   "name": "python3"
  },
  "language_info": {
   "codemirror_mode": {
    "name": "ipython",
    "version": 3
   },
   "file_extension": ".py",
   "mimetype": "text/x-python",
   "name": "python",
   "nbconvert_exporter": "python",
   "pygments_lexer": "ipython3",
   "version": "3.6.6"
  }
 },
 "nbformat": 4,
 "nbformat_minor": 4
}
