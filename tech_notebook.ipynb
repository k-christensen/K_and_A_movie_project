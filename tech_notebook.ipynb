{
 "cells": [
  {
   "cell_type": "code",
   "execution_count": 139,
   "metadata": {},
   "outputs": [],
   "source": [
    "import numpy as np\n",
    "import pandas as pd\n",
    "import seaborn as sns\n",
    "import matplotlib.pyplot as plt\n",
    "import movie_functions as mov\n",
    "import operator\n",
    "%matplotlib inline"
   ]
  },
  {
   "cell_type": "code",
   "execution_count": 42,
   "metadata": {},
   "outputs": [],
   "source": [
    "# upload first two datasets: box office mojo for domestic gross values, the movie database for release dates\n",
    "\n",
    "bom_df = pd.read_csv('./zippedData/bom.movie_gross.csv')\n",
    "tmdb_df = pd.read_csv('./zippedData/tmdb.movies.csv')"
   ]
  },
  {
   "cell_type": "code",
   "execution_count": 43,
   "metadata": {},
   "outputs": [],
   "source": [
    "tmdb_df.rename(columns = {'title': 'Title'}, inplace = True)"
   ]
  },
  {
   "cell_type": "code",
   "execution_count": 44,
   "metadata": {},
   "outputs": [],
   "source": [
    "tmdb_df.rename(columns = {'original_title': 'title'}, inplace = True)"
   ]
  },
  {
   "cell_type": "code",
   "execution_count": 45,
   "metadata": {},
   "outputs": [],
   "source": [
    "# merge these two datasets on the title column, \n",
    "# inner merge so that we don't have movies that have null values for either the release date or domestic gross\n",
    "\n",
    "bom_tmdb_df = pd.merge(bom_df, tmdb_df, on = 'title', how = 'inner')"
   ]
  },
  {
   "cell_type": "code",
   "execution_count": 46,
   "metadata": {},
   "outputs": [],
   "source": [
    "#upload imdb title basics info for genre info, title ratings for rating info\n",
    "\n",
    "imdb_title_basics_df = pd.read_csv('./zippedData/imdb.title.basics.csv')\n",
    "imdb_title_ratings_df = pd.read_csv('./zippedData/imdb.title.ratings.csv')"
   ]
  },
  {
   "cell_type": "code",
   "execution_count": 47,
   "metadata": {},
   "outputs": [],
   "source": [
    "# merge imdb datasets on the id given by imdb\n",
    "\n",
    "imdb_df = pd.merge(imdb_title_basics_df, imdb_title_ratings_df, on = 'tconst', how = 'inner')"
   ]
  },
  {
   "cell_type": "code",
   "execution_count": 48,
   "metadata": {},
   "outputs": [],
   "source": [
    "# rename primary title to just title so this data set can be \n",
    "# merged with the box office mojo/the movie database merged db above\n",
    "\n",
    "imdb_df.rename(columns = {'original_title': 'title'}, inplace = True)"
   ]
  },
  {
   "cell_type": "code",
   "execution_count": 52,
   "metadata": {},
   "outputs": [],
   "source": [
    "# merge bom/tmdb database and imdb database\n",
    "\n",
    "merged_df = pd.merge(bom_tmdb_df, imdb_df, on = 'title', how = 'inner')"
   ]
  },
  {
   "cell_type": "code",
   "execution_count": 55,
   "metadata": {},
   "outputs": [],
   "source": [
    "# drop duplicate entries based on thier id given in imdb database\n",
    "\n",
    "merged_df.drop_duplicates(subset='tconst', inplace = True)"
   ]
  },
  {
   "cell_type": "code",
   "execution_count": 58,
   "metadata": {},
   "outputs": [],
   "source": [
    "# drop duplicate entries based on thier id given in tmdb database\n",
    "\n",
    "merged_df.drop_duplicates(subset='id', inplace = True)"
   ]
  },
  {
   "cell_type": "code",
   "execution_count": 60,
   "metadata": {},
   "outputs": [],
   "source": [
    "# since we'll be measuring a movie's success by its domestic gross, we can't have data that does not have a domestic gross\n",
    "\n",
    "merged_df.dropna(subset=['domestic_gross'], inplace = True)"
   ]
  },
  {
   "cell_type": "code",
   "execution_count": 66,
   "metadata": {},
   "outputs": [],
   "source": [
    "# drop columns that won't be used in our analysis\n",
    "\n",
    "merged_df.drop(columns=['foreign_gross', 'Unnamed: 0', 'genre_ids', \n",
    "                        'Title', 'primary_title', 'start_year', \n",
    "                        'year', 'id', 'original_language', 'tconst', \n",
    "                        'vote_average', 'vote_count', 'popularity'], inplace = True)"
   ]
  },
  {
   "cell_type": "code",
   "execution_count": 71,
   "metadata": {},
   "outputs": [],
   "source": [
    "# turn the release date into a datetime object so the month, year, and day are easier to access\n",
    "\n",
    "merged_df['release_date'] = merged_df['release_date'].apply(lambda x: pd.to_datetime(x, format = '%Y-%m-%d'))"
   ]
  },
  {
   "cell_type": "code",
   "execution_count": 73,
   "metadata": {},
   "outputs": [],
   "source": [
    "# add a column 'month', that lists just the month of release\n",
    "\n",
    "merged_df['month'] = merged_df['release_date'].apply(lambda x: x.month)"
   ]
  },
  {
   "cell_type": "code",
   "execution_count": 76,
   "metadata": {},
   "outputs": [],
   "source": [
    "# add a column 'day', classifies each movie as being released at the beginning, middle, or end of the month\n",
    "\n",
    "merged_df['day']= merged_df['release_date'].apply(lambda x: 'beg' if x.day < 11 else('mid' if x.day < 21 else 'end'))"
   ]
  },
  {
   "cell_type": "code",
   "execution_count": 79,
   "metadata": {},
   "outputs": [],
   "source": [
    "# split the genres string for each movie into separate list items\n",
    "\n",
    "merged_df['genres'] = merged_df['genres'].apply(lambda x: x.split(','))"
   ]
  },
  {
   "cell_type": "code",
   "execution_count": 82,
   "metadata": {},
   "outputs": [],
   "source": [
    "# create a list of lists from the genres dataseries\n",
    "\n",
    "nested_list_genres = list(merged_df['genres'])"
   ]
  },
  {
   "cell_type": "code",
   "execution_count": 83,
   "metadata": {},
   "outputs": [],
   "source": [
    "# flatten the nested_list into one long list\n",
    "\n",
    "genre_list = [item for sublist in nested_list_genres for item in sublist]"
   ]
  },
  {
   "cell_type": "code",
   "execution_count": 92,
   "metadata": {},
   "outputs": [],
   "source": [
    "# obtain a list of all the unique genres (uses unique function from movie_functions.py)\n",
    "\n",
    "unique_genres = mov.unique(genre_list)"
   ]
  },
  {
   "cell_type": "code",
   "execution_count": 88,
   "metadata": {},
   "outputs": [],
   "source": [
    "# add dummy variables for unique genres\n",
    "\n",
    "merged_df['Adventure'] = mov.adventure(nested_list_genres)\n",
    "merged_df['Drama'] = mov.drama(nested_list_genres)\n",
    "merged_df['Romance'] = mov.romance(nested_list_genres)\n",
    "merged_df['Action'] = mov.action(nested_list_genres)\n",
    "merged_df['Crime'] = mov.crime(nested_list_genres)\n",
    "merged_df['Sci-fi'] = mov.scifi(nested_list_genres)\n",
    "merged_df['Comedy'] = mov.comedy(nested_list_genres)\n",
    "merged_df['Family'] = mov.family(nested_list_genres)\n",
    "merged_df['Animation'] = mov.animation(nested_list_genres)\n",
    "merged_df['Thriller'] = mov.thriller(nested_list_genres)\n",
    "merged_df['Mystery'] = mov.mystery(nested_list_genres)\n",
    "merged_df['Horror'] = mov.horror(nested_list_genres)\n",
    "merged_df['Biography'] = mov.biography(nested_list_genres)\n",
    "merged_df['History'] = mov.history(nested_list_genres)\n",
    "merged_df['Fantasy'] = mov.fantasy(nested_list_genres)\n",
    "merged_df['Music'] = mov.music(nested_list_genres)\n",
    "merged_df['War'] = mov.war(nested_list_genres)\n",
    "merged_df['Sport'] = mov.sport(nested_list_genres)\n",
    "merged_df['Western'] = mov.western(nested_list_genres)\n",
    "merged_df['Documentary'] = mov.documentary(nested_list_genres)\n",
    "merged_df['Musical'] = mov.musical(nested_list_genres)"
   ]
  },
  {
   "cell_type": "code",
   "execution_count": 96,
   "metadata": {},
   "outputs": [],
   "source": [
    "# now that the dummy variables have been made, we can drop the genres column\n",
    "\n",
    "merged_df.drop(columns=['genres'], inplace = True)"
   ]
  },
  {
   "cell_type": "code",
   "execution_count": 98,
   "metadata": {},
   "outputs": [],
   "source": [
    "# create list of month labels for data visuals\n",
    "\n",
    "tick_label_list = ['Jan', 'Feb', 'Mar', 'Apr', 'May', 'Jun', 'Jul', 'Aug', 'Sep', 'Oct', 'Nov', 'Dec']"
   ]
  },
  {
   "cell_type": "code",
   "execution_count": 125,
   "metadata": {},
   "outputs": [
    {
     "data": {
      "image/png": "[encoded data removed]",
      "text/plain": [
       "<Figure size 432x288 with 1 Axes>"
      ]
     },
     "metadata": {
      "needs_background": "light"
     },
     "output_type": "display_data"
    }
   ],
   "source": [
    "# this graph shows us that the domestic gross varies by month for movies overall\n",
    "\n",
    "sns.set_context('notebook')\n",
    "\n",
    "sns.barplot(x='month', y=\"domestic_gross\", \n",
    "            data = merged_df, capsize=.2, \n",
    "            palette=\"deep\").set(title = 'Overall Movie Success by Month', \n",
    "                                xticklabels = tick_label_list,\n",
    "                               xlabel = 'Month',\n",
    "                               ylabel = 'Domestic Gross')\n",
    "plt.tight_layout()\n",
    "plt.show()"
   ]
  },
  {
   "cell_type": "code",
   "execution_count": 234,
   "metadata": {},
   "outputs": [
    {
     "data": {
      "text/plain": [
       "['Drama', 'Comedy', 'Action', 'Adventure', 'Romance', 'Thriller']"
      ]
     },
     "execution_count": 234,
     "metadata": {},
     "output_type": "execute_result"
    }
   ],
   "source": [
    "# obtain top 6 genres with the most movies, obrain a list with those genres\n",
    "\n",
    "sum_dict = dict(zip(merged_df.columns[-21:], merged_df.sum()['Adventure':]))\n",
    "\n",
    "sorted_dict = sorted(sum_dict.items(), key=operator.itemgetter(1), reverse = True)\n",
    "\n",
    "top_six = sorted_dict[:6]\n",
    "\n",
    "top_six_genre_list = []\n",
    "for item in top_six:\n",
    "    top_six_genre_list.append(item[0])\n",
    "    \n",
    "top_six_genre_list"
   ]
  },
  {
   "cell_type": "code",
   "execution_count": 256,
   "metadata": {},
   "outputs": [],
   "source": [
    "# create dataframe that only has movies that are in these six genres\n",
    "\n",
    "six_genres_df = merged_df.loc[(merged_df['Drama'] == 1) | (merged_df['Comedy'] == 1) | \n",
    "                             (merged_df['Action'] == 1) | (merged_df['Adventure'] == 1) | \n",
    "                             merged_df['Thriller'] == 1 | (merged_df['Romance'] == 1)]"
   ]
  },
  {
   "cell_type": "code",
   "execution_count": 257,
   "metadata": {},
   "outputs": [],
   "source": [
    "# create dataframe of the domestic grosses for the top six genres\n",
    "\n",
    "data_genres = [pd.Series(drama_df['domestic_gross']), pd.Series(comedy_df['domestic_gross']), \n",
    "               pd.Series(action_df['domestic_gross']), pd.Series(adventure_df['domestic_gross']), \n",
    "               pd.Series(romance_df['domestic_gross']), pd.Series(thriller_df['domestic_gross'])]\n",
    "data = dict(zip(top_six_genre_list, data_genres))\n",
    "dom_gross_genre_df = pd.DataFrame(data)\n",
    "\n",
    "# add column for dataframe to merge on\n",
    "\n",
    "dom_gross_genre_df['title'] = six_genres_df['title']\n",
    "\n",
    "# rename columns to prep for merge\n",
    "dom_gross_genre_df.rename(columns = {'Drama':'drama_gross', 'Comedy':'comedy_gross', \n",
    "                                     'Action':'action_gross', 'Adventure': 'adventure_gross', \n",
    "                                     'Romance': 'romance_gross', 'Thriller': 'thriller_gross'}, inplace = True)"
   ]
  },
  {
   "cell_type": "code",
   "execution_count": 261,
   "metadata": {},
   "outputs": [],
   "source": [
    "# merge dataframes\n",
    "\n",
    "six_genres_df = pd.merge(six_genres_df, dom_gross_genre_df, on = 'title')"
   ]
  },
  {
   "cell_type": "code",
   "execution_count": 266,
   "metadata": {},
   "outputs": [
    {
     "data": {
      "text/html": [
       "<div>\n",
       "<style scoped>\n",
       "    .dataframe tbody tr th:only-of-type {\n",
       "        vertical-align: middle;\n",
       "    }\n",
       "\n",
       "    .dataframe tbody tr th {\n",
       "        vertical-align: top;\n",
       "    }\n",
       "\n",
       "    .dataframe thead th {\n",
       "        text-align: right;\n",
       "    }\n",
       "</style>\n",
       "<table border=\"1\" class=\"dataframe\">\n",
       "  <thead>\n",
       "    <tr style=\"text-align: right;\">\n",
       "      <th></th>\n",
       "      <th>studio</th>\n",
       "      <th>month</th>\n",
       "      <th>day</th>\n",
       "      <th>variable</th>\n",
       "      <th>value</th>\n",
       "    </tr>\n",
       "  </thead>\n",
       "  <tbody>\n",
       "    <tr>\n",
       "      <th>0</th>\n",
       "      <td>BV</td>\n",
       "      <td>6</td>\n",
       "      <td>mid</td>\n",
       "      <td>drama_gross</td>\n",
       "      <td>NaN</td>\n",
       "    </tr>\n",
       "    <tr>\n",
       "      <th>1</th>\n",
       "      <td>WB</td>\n",
       "      <td>7</td>\n",
       "      <td>mid</td>\n",
       "      <td>drama_gross</td>\n",
       "      <td>NaN</td>\n",
       "    </tr>\n",
       "    <tr>\n",
       "      <th>2</th>\n",
       "      <td>P/DW</td>\n",
       "      <td>5</td>\n",
       "      <td>mid</td>\n",
       "      <td>drama_gross</td>\n",
       "      <td>NaN</td>\n",
       "    </tr>\n",
       "    <tr>\n",
       "      <th>3</th>\n",
       "      <td>Sum.</td>\n",
       "      <td>6</td>\n",
       "      <td>end</td>\n",
       "      <td>drama_gross</td>\n",
       "      <td>300500000.0</td>\n",
       "    </tr>\n",
       "    <tr>\n",
       "      <th>4</th>\n",
       "      <td>Par.</td>\n",
       "      <td>5</td>\n",
       "      <td>beg</td>\n",
       "      <td>drama_gross</td>\n",
       "      <td>NaN</td>\n",
       "    </tr>\n",
       "  </tbody>\n",
       "</table>\n",
       "</div>"
      ],
      "text/plain": [
       "  studio  month  day     variable        value\n",
       "0     BV      6  mid  drama_gross          NaN\n",
       "1     WB      7  mid  drama_gross          NaN\n",
       "2   P/DW      5  mid  drama_gross          NaN\n",
       "3   Sum.      6  end  drama_gross  300500000.0\n",
       "4   Par.      5  beg  drama_gross          NaN"
      ]
     },
     "execution_count": 266,
     "metadata": {},
     "output_type": "execute_result"
    }
   ],
   "source": [
    "# melt dataframe so we can see divide data by genre\n",
    "\n",
    "by_genre_df = pd.melt(six_genres_df, id_vars=['studio', 'month', 'day'], \n",
    "                      value_vars=['drama_gross', 'comedy_gross', 'action_gross', \n",
    "                                  'adventure_gross', 'romance_gross', 'thriller_gross'])\n",
    "by_genre_df.head()"
   ]
  },
  {
   "cell_type": "code",
   "execution_count": 302,
   "metadata": {},
   "outputs": [],
   "source": [
    "# rename variable and value columns so that they make more sense\n",
    "\n",
    "by_genre_df = by_genre_df.rename(columns = {'variable':'genre', 'value': 'domestic_gross'})"
   ]
  },
  {
   "cell_type": "code",
   "execution_count": 305,
   "metadata": {},
   "outputs": [],
   "source": [
    "# drop NaN values for the domestic gross column just to clean up this dataset\n",
    "\n",
    "by_genre_df.dropna(subset=['domestic_gross'], inplace = True)"
   ]
  },
  {
   "cell_type": "code",
   "execution_count": 318,
   "metadata": {},
   "outputs": [
    {
     "data": {
      "text/plain": [
       "drama_gross        1026\n",
       "comedy_gross        632\n",
       "action_gross        407\n",
       "adventure_gross     343\n",
       "romance_gross       288\n",
       "thriller_gross      287\n",
       "Name: genre, dtype: int64"
      ]
     },
     "execution_count": 318,
     "metadata": {},
     "output_type": "execute_result"
    }
   ],
   "source": [
    "by_genre_df['genre'].value_counts()"
   ]
  },
  {
   "cell_type": "code",
   "execution_count": 383,
   "metadata": {},
   "outputs": [
    {
     "data": {
      "image/png": "[encoded data removed]",
      "text/plain": [
       "<Figure size 720x432 with 1 Axes>"
      ]
     },
     "metadata": {},
     "output_type": "display_data"
    }
   ],
   "source": [
    "# see overall success by genre\n",
    "\n",
    "f, ax = plt.subplots(figsize=(10, 6))\n",
    "sns.barplot(x = 'genre', y = 'domestic_gross', \n",
    "            data = by_genre_df, palette = 'deep').set(title = 'Average Domestic Gross by genre',\n",
    "                                                      xticklabels = list(zip(top_six_genre_list, by_genre_df['genre'].value_counts())),ylabel = 'Domestic Gross',\n",
    "                                   xlabel = 'Genre, Total Movies Analyzed')\n",
    "\n",
    "plt.savefig('Average_dom_gross_by_genre.png')\n",
    "plt.show()"
   ]
  },
  {
   "cell_type": "code",
   "execution_count": 325,
   "metadata": {},
   "outputs": [],
   "source": [
    "# to keep future graphs less busy, we'll focus on the top three\n",
    "\n",
    "three_top_df = by_genre_df.loc[(by_genre_df['genre'] == 'action_gross') | \n",
    "                               (by_genre_df['genre'] == 'adventure_gross') |\n",
    "                               (by_genre_df['genre'] == 'comedy_gross')]"
   ]
  },
  {
   "cell_type": "code",
   "execution_count": 330,
   "metadata": {},
   "outputs": [
    {
     "data": {
      "text/plain": [
       "Fox     144\n",
       "Uni.    137\n",
       "BV      114\n",
       "WB      107\n",
       "Sony     90\n",
       "Name: studio, dtype: int64"
      ]
     },
     "execution_count": 330,
     "metadata": {},
     "output_type": "execute_result"
    }
   ],
   "source": [
    "# obtain top five studios\n",
    "\n",
    "three_top_df['studio'].value_counts()[:5]"
   ]
  },
  {
   "cell_type": "code",
   "execution_count": 331,
   "metadata": {},
   "outputs": [],
   "source": [
    "# create dataframe that only has these top five studios to make a clearer graph\n",
    "\n",
    "top_five_studios_df = three_top_df.loc[(three_top_df['studio'] == 'Uni.') | (three_top_df['studio'] == 'Fox') | \n",
    "                                 (three_top_df['studio'] == 'WB') | (three_top_df['studio'] == 'Sony') | \n",
    "                                 (three_top_df['studio'] == 'BV')]"
   ]
  },
  {
   "cell_type": "code",
   "execution_count": 372,
   "metadata": {},
   "outputs": [
    {
     "data": {
      "text/html": [
       "<div>\n",
       "<style scoped>\n",
       "    .dataframe tbody tr th:only-of-type {\n",
       "        vertical-align: middle;\n",
       "    }\n",
       "\n",
       "    .dataframe tbody tr th {\n",
       "        vertical-align: top;\n",
       "    }\n",
       "\n",
       "    .dataframe thead th {\n",
       "        text-align: right;\n",
       "    }\n",
       "</style>\n",
       "<table border=\"1\" class=\"dataframe\">\n",
       "  <thead>\n",
       "    <tr style=\"text-align: right;\">\n",
       "      <th></th>\n",
       "      <th></th>\n",
       "      <th>count</th>\n",
       "      <th>mean</th>\n",
       "      <th>std</th>\n",
       "      <th>min</th>\n",
       "      <th>25%</th>\n",
       "      <th>50%</th>\n",
       "      <th>75%</th>\n",
       "      <th>max</th>\n",
       "    </tr>\n",
       "    <tr>\n",
       "      <th>studio</th>\n",
       "      <th>genre</th>\n",
       "      <th></th>\n",
       "      <th></th>\n",
       "      <th></th>\n",
       "      <th></th>\n",
       "      <th></th>\n",
       "      <th></th>\n",
       "      <th></th>\n",
       "      <th></th>\n",
       "    </tr>\n",
       "  </thead>\n",
       "  <tbody>\n",
       "    <tr>\n",
       "      <th rowspan=\"3\" valign=\"top\">BV</th>\n",
       "      <th>action_gross</th>\n",
       "      <td>27.00</td>\n",
       "      <td>248196296.30</td>\n",
       "      <td>189110668.62</td>\n",
       "      <td>27600000.00</td>\n",
       "      <td>90050000.00</td>\n",
       "      <td>216600000.00</td>\n",
       "      <td>324150000.00</td>\n",
       "      <td>700100000.00</td>\n",
       "    </tr>\n",
       "    <tr>\n",
       "      <th>adventure_gross</th>\n",
       "      <td>51.00</td>\n",
       "      <td>215531372.55</td>\n",
       "      <td>166615261.59</td>\n",
       "      <td>12400000.00</td>\n",
       "      <td>88950000.00</td>\n",
       "      <td>200800000.00</td>\n",
       "      <td>264150000.00</td>\n",
       "      <td>700100000.00</td>\n",
       "    </tr>\n",
       "    <tr>\n",
       "      <th>comedy_gross</th>\n",
       "      <td>36.00</td>\n",
       "      <td>159230555.56</td>\n",
       "      <td>127660101.88</td>\n",
       "      <td>10100000.00</td>\n",
       "      <td>51725000.00</td>\n",
       "      <td>140450000.00</td>\n",
       "      <td>221775000.00</td>\n",
       "      <td>486300000.00</td>\n",
       "    </tr>\n",
       "    <tr>\n",
       "      <th rowspan=\"3\" valign=\"top\">Fox</th>\n",
       "      <th>action_gross</th>\n",
       "      <td>42.00</td>\n",
       "      <td>105592857.14</td>\n",
       "      <td>78513952.13</td>\n",
       "      <td>12700000.00</td>\n",
       "      <td>50425000.00</td>\n",
       "      <td>81650000.00</td>\n",
       "      <td>146050000.00</td>\n",
       "      <td>363100000.00</td>\n",
       "    </tr>\n",
       "    <tr>\n",
       "      <th>adventure_gross</th>\n",
       "      <td>49.00</td>\n",
       "      <td>116336734.65</td>\n",
       "      <td>72208960.94</td>\n",
       "      <td>12700000.00</td>\n",
       "      <td>64099999.00</td>\n",
       "      <td>107500000.00</td>\n",
       "      <td>146900000.00</td>\n",
       "      <td>363100000.00</td>\n",
       "    </tr>\n",
       "    <tr>\n",
       "      <th>comedy_gross</th>\n",
       "      <td>53.00</td>\n",
       "      <td>79350943.36</td>\n",
       "      <td>68601467.86</td>\n",
       "      <td>3700000.00</td>\n",
       "      <td>36700000.00</td>\n",
       "      <td>60300000.00</td>\n",
       "      <td>100200000.00</td>\n",
       "      <td>363100000.00</td>\n",
       "    </tr>\n",
       "    <tr>\n",
       "      <th rowspan=\"3\" valign=\"top\">Sony</th>\n",
       "      <th>action_gross</th>\n",
       "      <td>29.00</td>\n",
       "      <td>121682758.59</td>\n",
       "      <td>99735060.01</td>\n",
       "      <td>20300000.00</td>\n",
       "      <td>50700000.00</td>\n",
       "      <td>78700000.00</td>\n",
       "      <td>176600000.00</td>\n",
       "      <td>404500000.00</td>\n",
       "    </tr>\n",
       "    <tr>\n",
       "      <th>adventure_gross</th>\n",
       "      <td>24.00</td>\n",
       "      <td>127429166.67</td>\n",
       "      <td>105427215.69</td>\n",
       "      <td>34300000.00</td>\n",
       "      <td>46650000.00</td>\n",
       "      <td>83100000.00</td>\n",
       "      <td>175650000.00</td>\n",
       "      <td>404500000.00</td>\n",
       "    </tr>\n",
       "    <tr>\n",
       "      <th>comedy_gross</th>\n",
       "      <td>37.00</td>\n",
       "      <td>94943243.19</td>\n",
       "      <td>69765916.30</td>\n",
       "      <td>21100000.00</td>\n",
       "      <td>45300000.00</td>\n",
       "      <td>78700000.00</td>\n",
       "      <td>119800000.00</td>\n",
       "      <td>404500000.00</td>\n",
       "    </tr>\n",
       "    <tr>\n",
       "      <th rowspan=\"3\" valign=\"top\">Uni.</th>\n",
       "      <th>action_gross</th>\n",
       "      <td>46.00</td>\n",
       "      <td>89135260.87</td>\n",
       "      <td>112384421.90</td>\n",
       "      <td>22000.00</td>\n",
       "      <td>29475000.00</td>\n",
       "      <td>65950000.00</td>\n",
       "      <td>104025000.00</td>\n",
       "      <td>652300000.00</td>\n",
       "    </tr>\n",
       "    <tr>\n",
       "      <th>adventure_gross</th>\n",
       "      <td>32.00</td>\n",
       "      <td>124065625.00</td>\n",
       "      <td>150439786.71</td>\n",
       "      <td>2200000.00</td>\n",
       "      <td>36450000.00</td>\n",
       "      <td>64950000.00</td>\n",
       "      <td>128425000.00</td>\n",
       "      <td>652300000.00</td>\n",
       "    </tr>\n",
       "    <tr>\n",
       "      <th>comedy_gross</th>\n",
       "      <td>59.00</td>\n",
       "      <td>94886440.68</td>\n",
       "      <td>87743457.28</td>\n",
       "      <td>4400000.00</td>\n",
       "      <td>36350000.00</td>\n",
       "      <td>65000000.00</td>\n",
       "      <td>117900000.00</td>\n",
       "      <td>368400000.00</td>\n",
       "    </tr>\n",
       "    <tr>\n",
       "      <th rowspan=\"3\" valign=\"top\">WB</th>\n",
       "      <th>action_gross</th>\n",
       "      <td>42.00</td>\n",
       "      <td>129909523.81</td>\n",
       "      <td>121489312.61</td>\n",
       "      <td>3700000.00</td>\n",
       "      <td>40300000.00</td>\n",
       "      <td>85000000.00</td>\n",
       "      <td>182125000.00</td>\n",
       "      <td>448100000.00</td>\n",
       "    </tr>\n",
       "    <tr>\n",
       "      <th>adventure_gross</th>\n",
       "      <td>34.00</td>\n",
       "      <td>132023529.41</td>\n",
       "      <td>107407254.03</td>\n",
       "      <td>17500000.00</td>\n",
       "      <td>49475000.00</td>\n",
       "      <td>100350000.00</td>\n",
       "      <td>165975000.00</td>\n",
       "      <td>412600000.00</td>\n",
       "    </tr>\n",
       "    <tr>\n",
       "      <th>comedy_gross</th>\n",
       "      <td>31.00</td>\n",
       "      <td>68303225.81</td>\n",
       "      <td>49909514.68</td>\n",
       "      <td>1800000.00</td>\n",
       "      <td>37650000.00</td>\n",
       "      <td>54700000.00</td>\n",
       "      <td>85650000.00</td>\n",
       "      <td>254500000.00</td>\n",
       "    </tr>\n",
       "  </tbody>\n",
       "</table>\n",
       "</div>"
      ],
      "text/plain": [
       "                        count         mean          std         min  \\\n",
       "studio genre                                                          \n",
       "BV     action_gross     27.00 248196296.30 189110668.62 27600000.00   \n",
       "       adventure_gross  51.00 215531372.55 166615261.59 12400000.00   \n",
       "       comedy_gross     36.00 159230555.56 127660101.88 10100000.00   \n",
       "Fox    action_gross     42.00 105592857.14  78513952.13 12700000.00   \n",
       "       adventure_gross  49.00 116336734.65  72208960.94 12700000.00   \n",
       "       comedy_gross     53.00  79350943.36  68601467.86  3700000.00   \n",
       "Sony   action_gross     29.00 121682758.59  99735060.01 20300000.00   \n",
       "       adventure_gross  24.00 127429166.67 105427215.69 34300000.00   \n",
       "       comedy_gross     37.00  94943243.19  69765916.30 21100000.00   \n",
       "Uni.   action_gross     46.00  89135260.87 112384421.90    22000.00   \n",
       "       adventure_gross  32.00 124065625.00 150439786.71  2200000.00   \n",
       "       comedy_gross     59.00  94886440.68  87743457.28  4400000.00   \n",
       "WB     action_gross     42.00 129909523.81 121489312.61  3700000.00   \n",
       "       adventure_gross  34.00 132023529.41 107407254.03 17500000.00   \n",
       "       comedy_gross     31.00  68303225.81  49909514.68  1800000.00   \n",
       "\n",
       "                               25%          50%          75%          max  \n",
       "studio genre                                                               \n",
       "BV     action_gross    90050000.00 216600000.00 324150000.00 700100000.00  \n",
       "       adventure_gross 88950000.00 200800000.00 264150000.00 700100000.00  \n",
       "       comedy_gross    51725000.00 140450000.00 221775000.00 486300000.00  \n",
       "Fox    action_gross    50425000.00  81650000.00 146050000.00 363100000.00  \n",
       "       adventure_gross 64099999.00 107500000.00 146900000.00 363100000.00  \n",
       "       comedy_gross    36700000.00  60300000.00 100200000.00 363100000.00  \n",
       "Sony   action_gross    50700000.00  78700000.00 176600000.00 404500000.00  \n",
       "       adventure_gross 46650000.00  83100000.00 175650000.00 404500000.00  \n",
       "       comedy_gross    45300000.00  78700000.00 119800000.00 404500000.00  \n",
       "Uni.   action_gross    29475000.00  65950000.00 104025000.00 652300000.00  \n",
       "       adventure_gross 36450000.00  64950000.00 128425000.00 652300000.00  \n",
       "       comedy_gross    36350000.00  65000000.00 117900000.00 368400000.00  \n",
       "WB     action_gross    40300000.00  85000000.00 182125000.00 448100000.00  \n",
       "       adventure_gross 49475000.00 100350000.00 165975000.00 412600000.00  \n",
       "       comedy_gross    37650000.00  54700000.00  85650000.00 254500000.00  "
      ]
     },
     "execution_count": 372,
     "metadata": {},
     "output_type": "execute_result"
    }
   ],
   "source": [
    "# create table of studio earnings subdivided by genre, suppress scientific notation to make the table more readable\n",
    "\n",
    "studio_genre_table = top_five_studios_df.groupby(['studio', 'genre']).describe()['domestic_gross']\n",
    "pd.set_option('display.float_format', '{:.2f}'.format)\n",
    "\n",
    "export_csv = studio_genre_table.to_csv('studio_genre_table.csv', index= None, header = True)"
   ]
  },
  {
   "cell_type": "code",
   "execution_count": 384,
   "metadata": {},
   "outputs": [
    {
     "data": {
      "image/png": "[encoded data removed]",
      "text/plain": [
       "<Figure size 1080x720 with 1 Axes>"
      ]
     },
     "metadata": {},
     "output_type": "display_data"
    }
   ],
   "source": [
    "# graph representing info in table above\n",
    "\n",
    "f, ax = plt.subplots(figsize = (15,10))\n",
    "ax = sns.barplot(x=\"studio\", y=\"domestic_gross\", hue=\"genre\", data=top_five_studios_df,\n",
    "                palette=\"muted\").set(title = 'Studio Success by Genre', ylabel = 'Domestic Gross')\n",
    "plt.savefig('Studio_success_by_genre.png')"
   ]
  },
  {
   "cell_type": "code",
   "execution_count": 385,
   "metadata": {},
   "outputs": [
    {
     "data": {
      "image/png": "[encoded data removed]",
      "text/plain": [
       "<Figure size 1080x720 with 1 Axes>"
      ]
     },
     "metadata": {},
     "output_type": "display_data"
    }
   ],
   "source": [
    "# determine genre success by month\n",
    "\n",
    "f, ax = plt.subplots(figsize = (15,10))\n",
    "ax = sns.barplot(x=\"month\", y=\"domestic_gross\", hue=\"genre\", \n",
    "                 data=three_top_df, palette=\"muted\", ci=None).set(title = 'Average Domestic Gross by Genre by Month', \n",
    "                                                                  xticklabels = tick_label_list, ylabel = 'Domestic Gross')\n",
    "plt.savefig('Success_by_month.png')"
   ]
  },
  {
   "cell_type": "code",
   "execution_count": 378,
   "metadata": {},
   "outputs": [
    {
     "data": {
      "text/html": [
       "<div>\n",
       "<style scoped>\n",
       "    .dataframe tbody tr th:only-of-type {\n",
       "        vertical-align: middle;\n",
       "    }\n",
       "\n",
       "    .dataframe tbody tr th {\n",
       "        vertical-align: top;\n",
       "    }\n",
       "\n",
       "    .dataframe thead th {\n",
       "        text-align: right;\n",
       "    }\n",
       "</style>\n",
       "<table border=\"1\" class=\"dataframe\">\n",
       "  <thead>\n",
       "    <tr style=\"text-align: right;\">\n",
       "      <th></th>\n",
       "      <th></th>\n",
       "      <th>count</th>\n",
       "      <th>mean</th>\n",
       "      <th>std</th>\n",
       "      <th>min</th>\n",
       "      <th>25%</th>\n",
       "      <th>50%</th>\n",
       "      <th>75%</th>\n",
       "      <th>max</th>\n",
       "    </tr>\n",
       "    <tr>\n",
       "      <th>genre</th>\n",
       "      <th>day</th>\n",
       "      <th></th>\n",
       "      <th></th>\n",
       "      <th></th>\n",
       "      <th></th>\n",
       "      <th></th>\n",
       "      <th></th>\n",
       "      <th></th>\n",
       "      <th></th>\n",
       "    </tr>\n",
       "  </thead>\n",
       "  <tbody>\n",
       "    <tr>\n",
       "      <th rowspan=\"3\" valign=\"top\">action_gross</th>\n",
       "      <th>beg</th>\n",
       "      <td>55.00</td>\n",
       "      <td>146458181.82</td>\n",
       "      <td>114681091.94</td>\n",
       "      <td>9500000.00</td>\n",
       "      <td>56200000.00</td>\n",
       "      <td>110800000.00</td>\n",
       "      <td>211500000.00</td>\n",
       "      <td>459000000.00</td>\n",
       "    </tr>\n",
       "    <tr>\n",
       "      <th>end</th>\n",
       "      <td>57.00</td>\n",
       "      <td>123392982.46</td>\n",
       "      <td>125671777.52</td>\n",
       "      <td>4400000.00</td>\n",
       "      <td>38400000.00</td>\n",
       "      <td>90800000.00</td>\n",
       "      <td>159600000.00</td>\n",
       "      <td>678800000.00</td>\n",
       "    </tr>\n",
       "    <tr>\n",
       "      <th>mid</th>\n",
       "      <td>74.00</td>\n",
       "      <td>123416513.50</td>\n",
       "      <td>143365905.60</td>\n",
       "      <td>22000.00</td>\n",
       "      <td>38225000.00</td>\n",
       "      <td>69700000.00</td>\n",
       "      <td>144775000.00</td>\n",
       "      <td>700100000.00</td>\n",
       "    </tr>\n",
       "    <tr>\n",
       "      <th rowspan=\"3\" valign=\"top\">adventure_gross</th>\n",
       "      <th>beg</th>\n",
       "      <td>61.00</td>\n",
       "      <td>166560655.72</td>\n",
       "      <td>123828190.49</td>\n",
       "      <td>12700000.00</td>\n",
       "      <td>56100000.00</td>\n",
       "      <td>126500000.00</td>\n",
       "      <td>259800000.00</td>\n",
       "      <td>459000000.00</td>\n",
       "    </tr>\n",
       "    <tr>\n",
       "      <th>end</th>\n",
       "      <td>67.00</td>\n",
       "      <td>127562686.55</td>\n",
       "      <td>116828319.84</td>\n",
       "      <td>2200000.00</td>\n",
       "      <td>49800000.00</td>\n",
       "      <td>90800000.00</td>\n",
       "      <td>173800000.00</td>\n",
       "      <td>678800000.00</td>\n",
       "    </tr>\n",
       "    <tr>\n",
       "      <th>mid</th>\n",
       "      <td>62.00</td>\n",
       "      <td>153272580.65</td>\n",
       "      <td>152765288.92</td>\n",
       "      <td>16000000.00</td>\n",
       "      <td>58525000.00</td>\n",
       "      <td>98950000.00</td>\n",
       "      <td>179400000.00</td>\n",
       "      <td>700100000.00</td>\n",
       "    </tr>\n",
       "    <tr>\n",
       "      <th rowspan=\"3\" valign=\"top\">comedy_gross</th>\n",
       "      <th>beg</th>\n",
       "      <td>59.00</td>\n",
       "      <td>110023728.80</td>\n",
       "      <td>106504377.99</td>\n",
       "      <td>1800000.00</td>\n",
       "      <td>40850000.00</td>\n",
       "      <td>67000000.00</td>\n",
       "      <td>124699999.50</td>\n",
       "      <td>389800000.00</td>\n",
       "    </tr>\n",
       "    <tr>\n",
       "      <th>end</th>\n",
       "      <td>79.00</td>\n",
       "      <td>86691139.23</td>\n",
       "      <td>70494684.64</td>\n",
       "      <td>3700000.00</td>\n",
       "      <td>32350000.00</td>\n",
       "      <td>65000000.00</td>\n",
       "      <td>121450000.00</td>\n",
       "      <td>270400000.00</td>\n",
       "    </tr>\n",
       "    <tr>\n",
       "      <th>mid</th>\n",
       "      <td>78.00</td>\n",
       "      <td>100339743.56</td>\n",
       "      <td>90358673.95</td>\n",
       "      <td>7200000.00</td>\n",
       "      <td>41225000.00</td>\n",
       "      <td>76950000.00</td>\n",
       "      <td>130700000.00</td>\n",
       "      <td>486300000.00</td>\n",
       "    </tr>\n",
       "  </tbody>\n",
       "</table>\n",
       "</div>"
      ],
      "text/plain": [
       "                     count         mean          std         min         25%  \\\n",
       "genre           day                                                            \n",
       "action_gross    beg  55.00 146458181.82 114681091.94  9500000.00 56200000.00   \n",
       "                end  57.00 123392982.46 125671777.52  4400000.00 38400000.00   \n",
       "                mid  74.00 123416513.50 143365905.60    22000.00 38225000.00   \n",
       "adventure_gross beg  61.00 166560655.72 123828190.49 12700000.00 56100000.00   \n",
       "                end  67.00 127562686.55 116828319.84  2200000.00 49800000.00   \n",
       "                mid  62.00 153272580.65 152765288.92 16000000.00 58525000.00   \n",
       "comedy_gross    beg  59.00 110023728.80 106504377.99  1800000.00 40850000.00   \n",
       "                end  79.00  86691139.23  70494684.64  3700000.00 32350000.00   \n",
       "                mid  78.00 100339743.56  90358673.95  7200000.00 41225000.00   \n",
       "\n",
       "                             50%          75%          max  \n",
       "genre           day                                         \n",
       "action_gross    beg 110800000.00 211500000.00 459000000.00  \n",
       "                end  90800000.00 159600000.00 678800000.00  \n",
       "                mid  69700000.00 144775000.00 700100000.00  \n",
       "adventure_gross beg 126500000.00 259800000.00 459000000.00  \n",
       "                end  90800000.00 173800000.00 678800000.00  \n",
       "                mid  98950000.00 179400000.00 700100000.00  \n",
       "comedy_gross    beg  67000000.00 124699999.50 389800000.00  \n",
       "                end  65000000.00 121450000.00 270400000.00  \n",
       "                mid  76950000.00 130700000.00 486300000.00  "
      ]
     },
     "execution_count": 378,
     "metadata": {},
     "output_type": "execute_result"
    }
   ],
   "source": [
    "# see when in the month which genres do best\n",
    "\n",
    "top_five_studios_df.groupby(['genre', 'day']).describe()['domestic_gross']"
   ]
  },
  {
   "cell_type": "code",
   "execution_count": 386,
   "metadata": {},
   "outputs": [
    {
     "data": {
      "image/png": "[encoded data removed]",
      "text/plain": [
       "<Figure size 1080x720 with 1 Axes>"
      ]
     },
     "metadata": {},
     "output_type": "display_data"
    }
   ],
   "source": [
    "# graph this data, showing that the middle and beginning of the month are the best time for movie release, \n",
    "# but this advantange is so minimal that it shouldn't be a huge concern for the investor\n",
    "\n",
    "f, ax = plt.subplots(figsize = (15,10))\n",
    "ax = sns.barplot(x=\"genre\", y=\"domestic_gross\", hue=\"day\", \n",
    "                 data=three_top_df, palette=\"muted\").set(title = 'Average Domestic Gross by Genre by Time of the Month',\n",
    "                                                                  xticklabels = ['Comedy', 'Action', 'Adventure'], \n",
    "                                                                  ylabel = 'Domestic Gross')\n",
    "plt.savefig('Success_by_time_of_month.png')"
   ]
  },
  {
   "cell_type": "code",
   "execution_count": 381,
   "metadata": {},
   "outputs": [],
   "source": [
    "export_csv = three_top_df.to_csv ('top_three_genres.csv', index = None, header=True)"
   ]
  },
  {
   "cell_type": "code",
   "execution_count": 382,
   "metadata": {},
   "outputs": [],
   "source": [
    "export_csv = top_five_studios_df.to_csv('top_five_studios.csv', index= None, header = True)"
   ]
  },
  {
   "cell_type": "code",
   "execution_count": null,
   "metadata": {},
   "outputs": [],
   "source": []
  }
 ],
 "metadata": {
  "kernelspec": {
   "display_name": "Python 3",
   "language": "python",
   "name": "python3"
  },
  "language_info": {
   "codemirror_mode": {
    "name": "ipython",
    "version": 3
   },
   "file_extension": ".py",
   "mimetype": "text/x-python",
   "name": "python",
   "nbconvert_exporter": "python",
   "pygments_lexer": "ipython3",
   "version": "3.7.3"
  }
 },
 "nbformat": 4,
 "nbformat_minor": 4
}
